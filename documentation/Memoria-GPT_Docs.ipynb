{
 "cells": [
  {
   "cell_type": "markdown",
   "metadata": {},
   "source": [
    "# Memoria App \"GPT-docs\"\n",
    "\n",
    "<a id=\"indice\"></a> <br>\n",
    "## Índice\n",
    "\n",
    "1. [Introducción](#1)\n",
    "2. [Estructura de la app](#2)\n",
    "3. [Interfaz](#3)\n",
    "4. [Conexión chat-GPT](#4)\n",
    "5. [Despliegue de Base de Datos](#5)  \n",
    "6. [Conexión a Base de Datos](#6)  \n",
    "7. [Testeo](#7)\n",
    "8. [Imagen Docker](#8)\n"
   ]
  },
  {
   "cell_type": "markdown",
   "metadata": {},
   "source": [
    "<a id=\"1\"></a> <br>\n",
    "## 1. Introducción"
   ]
  },
  {
   "cell_type": "markdown",
   "metadata": {},
   "source": [
    "El objetivo de este proyecto es **diseñar, testear y desplegar** una app capaz de comunicarse via api tanto con una base de datos almacenada en ***Amazon Web Services***, como con ***Chat-GPT***.\n",
    "\n",
    "La app será desarrollada con ***Flask***, vía Python, incluirá una interfaz gráfica para el usuario y diversos endpoints que ejecuten las funciones."
   ]
  },
  {
   "cell_type": "markdown",
   "metadata": {},
   "source": [
    "<a id=\"2\"></a> <br>\n",
    "## 2. Estructura de la app.\n",
    "\n",
    "1. Interfaz gráfica en la que se introducen archivos y preguntas.\n",
    "2. Endpoint de conexión con ***Chat-GPT***, que introduce la pregunta y el archivo, para obtener una respuesta en forma de salida.\n",
    "3. Conexión a Base de Datos alojada en la nube de ***AWS***."
   ]
  },
  {
   "cell_type": "markdown",
   "metadata": {},
   "source": [
    "<a id=\"3\"></a> <br>\n",
    "## 3. Interfaz\n",
    "\n",
    "La interfaz de usuario aceptará tanto archivos arrastrados como la selección de archivos en el ordenador mediante explorador, y la realización de preguntas sobre el archivo.\n",
    "Tras ejecutar la pregunta, se guarda el registro de preguntas y se imprime en pantalla en formato chat lo requerido.\n"
   ]
  },
  {
   "cell_type": "markdown",
   "metadata": {},
   "source": [
    "<a id=\"4\"></a> <br>\n",
    "## 4. Conexión Chat-GPT\n",
    "\n",
    "La app realiza una conexión con Chat-GPT mediante un endpoint de Flask, en el que se usa la api nativa de OpenAI que permite, una vez autentificado vía cuenta y key personales, el ejecutar preguntas.\n",
    "\n",
    "**IMAGEN**\n"
   ]
  },
  {
   "cell_type": "markdown",
   "metadata": {},
   "source": [
    "<a id=\"5\"></a> <br>\n",
    "## 5.Despliegue de Base de Datos\n",
    "\n",
    "\n",
    "Usando los servicios de AWS, se despliega una base de datos con motor PostgreSQL, abierta al público, configurada para aceptar conexiones vía endpoint más contraseña.\n",
    "\n",
    "Las conexiones que realizarán los endpoints de la app usarán la librería Psycopg2 de Python.\n",
    "\n",
    "```\n",
    "python\n",
    "print(\"Hola\")\n",
    "```\n",
    "\n",
    "\n"
   ]
  },
  {
   "cell_type": "markdown",
   "metadata": {},
   "source": [
    "<a id=\"6\"></a> <br>\n",
    "## 6.Conexión a Base de Datos"
   ]
  },
  {
   "cell_type": "markdown",
   "metadata": {},
   "source": [
    "La librería Psycopg2 ofrece la posibilidad de conectar con una base de datos PostgreSQL, creando una conexión y un cursor para comunicarse y ejecutar querys.\n",
    "Esto se realiza siguiendo la siguiente estructura de código:"
   ]
  },
  {
   "cell_type": "code",
   "execution_count": null,
   "metadata": {},
   "outputs": [],
   "source": [
    "def connect():\n",
    "    \n",
    "    # Set up a connection to the postgres server.\n",
    "    conn_string = \"host=\"+ END_POINT +\" port=\"+ \"5432\" +\" dbname=\"+ DATABASE_NAME +\" user=\" + USER_NAME \\\n",
    "                  +\" password=\"+ PASSWORD\n",
    "    \n",
    "    conn = psycopg2.connect(conn_string)\n",
    "    print(\"Connected!\")\n",
    "\n",
    "    # Create a cursor object\n",
    "    cursor = conn.cursor()\n",
    "    \n",
    "    return conn, cursor"
   ]
  },
  {
   "cell_type": "markdown",
   "metadata": {},
   "source": [
    "Siendo *END_POINT, DATABASE_NAME, USER_NAME y PASSWORD* variables que se deberán definir previamente."
   ]
  },
  {
   "cell_type": "markdown",
   "metadata": {},
   "source": [
    "<a id=\"7\"></a> <br>\n",
    "## 7.Testeo"
   ]
  },
  {
   "cell_type": "markdown",
   "metadata": {},
   "source": [
    "Se generan tests que verifican la robustez de la app, los cuales se aplican previamente a su despliegue vía Docker. También se incluyen en la imagen de la app para su testeo por parte de futuros usuarios."
   ]
  },
  {
   "cell_type": "markdown",
   "metadata": {},
   "source": [
    "<a id=\"8\"></a> <br>\n",
    "## 8.Imagen Docker"
   ]
  },
  {
   "cell_type": "markdown",
   "metadata": {},
   "source": [
    "Una vez comprobado el correcto funcionamiento de la app, usando Docker se genera una imagen que pueda ser ejecutada por futuros usuarios, independientemente de su situación."
   ]
  }
 ],
 "metadata": {
  "kernelspec": {
   "display_name": "Python 3",
   "language": "python",
   "name": "python3"
  },
  "language_info": {
   "codemirror_mode": {
    "name": "ipython",
    "version": 3
   },
   "file_extension": ".py",
   "mimetype": "text/x-python",
   "name": "python",
   "nbconvert_exporter": "python",
   "pygments_lexer": "ipython3",
   "version": "3.11.5"
  }
 },
 "nbformat": 4,
 "nbformat_minor": 2
}
