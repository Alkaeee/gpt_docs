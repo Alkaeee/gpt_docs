{
 "cells": [
  {
   "cell_type": "code",
   "execution_count": 3,
   "metadata": {},
   "outputs": [],
   "source": [
    "import os\n",
    "import json\n",
    "import requests\n",
    "from psycopg2 import sql\n",
    "\n",
    "PATH_UPLOAD=os.getcwd()+'\\\\..\\\\uploads'"
   ]
  },
  {
   "cell_type": "code",
   "execution_count": 6,
   "metadata": {},
   "outputs": [],
   "source": [
    "def test_insert_question():\n",
    "    url = 'http://127.0.0.1:5000/insert'  \n",
    "    data = {\"question\": \"Resume el archivo python\"}\n",
    "    response = requests.post(url, json=data)\n",
    "    assert response.status_code == 200\n",
    "    assert any(isinstance(value, str) for value in response.json())"
   ]
  },
  {
   "cell_type": "code",
   "execution_count": 7,
   "metadata": {},
   "outputs": [],
   "source": [
    "test_insert_question()"
   ]
  },
  {
   "cell_type": "code",
   "execution_count": 66,
   "metadata": {},
   "outputs": [],
   "source": [
    "\n",
    "def test_get_record():\n",
    "    url = 'http://127.0.0.1:5000/record'  \n",
    "    response = requests.get(url)\n",
    "\n",
    "    try:\n",
    "        json_data = response.json()[0]\n",
    "    except json.JSONDecodeError:\n",
    "        assert False, \"El texto no es un JSON válido.\"\n",
    "\n",
    "    # Verificar la estructura del JSON\n",
    "    assert isinstance(json_data, dict), \"Se esperaba un objeto JSON.\"\n",
    "    assert response.status_code == 200\n",
    "    assert isinstance(json_data[\"id\"], int), \"La clave 'id' debe ser un entero.\"\n",
    "    assert isinstance(json_data[\"time\"], str), \"La clave 'time' debe ser un entero.\"\n",
    "    assert isinstance(json_data[\"question\"], str), \"La clave 'question' debe ser una cadena de caracteres.\"\n",
    "    assert isinstance(json_data[\"response\"], str), \"La clave 'response' debe ser una cadena de caracteres.\""
   ]
  },
  {
   "cell_type": "code",
   "execution_count": 67,
   "metadata": {},
   "outputs": [],
   "source": [
    "test_get_record()"
   ]
  },
  {
   "cell_type": "code",
   "execution_count": 23,
   "metadata": {},
   "outputs": [],
   "source": [
    "def test_failed_upload_file():\n",
    "    url = 'http://127.0.0.1:5000/upload' \n",
    "\n",
    "    response = requests.post(url)\n",
    "\n",
    "    assert response.status_code == 200\n",
    "    assert response.text == 'No se ha enviado ningún archivo'"
   ]
  },
  {
   "cell_type": "code",
   "execution_count": 24,
   "metadata": {},
   "outputs": [],
   "source": [
    "test_failed_upload_file()"
   ]
  },
  {
   "cell_type": "code",
   "execution_count": null,
   "metadata": {},
   "outputs": [],
   "source": []
  }
 ],
 "metadata": {
  "kernelspec": {
   "display_name": "Python 3",
   "language": "python",
   "name": "python3"
  },
  "language_info": {
   "codemirror_mode": {
    "name": "ipython",
    "version": 3
   },
   "file_extension": ".py",
   "mimetype": "text/x-python",
   "name": "python",
   "nbconvert_exporter": "python",
   "pygments_lexer": "ipython3",
   "version": "3.11.4"
  }
 },
 "nbformat": 4,
 "nbformat_minor": 2
}
